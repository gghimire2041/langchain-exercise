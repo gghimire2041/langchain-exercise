{
 "cells": [
  {
   "cell_type": "markdown",
   "metadata": {},
   "source": [
    "### TASK: Create a Python function that uses Prompts and Chat internally to give travel ideas related to two variables:\n",
    "* An Interest or Hobby\n",
    "* A Budget"
   ]
  },
  {
   "cell_type": "code",
   "execution_count": 2,
   "metadata": {},
   "outputs": [],
   "source": [
    "import os\n",
    "from dotenv import load_dotenv\n",
    "load_dotenv()\n",
    "api_key = os.getenv(\"OPENAI_API_KEY\")\n",
    "from langchain.llms import OpenAI"
   ]
  },
  {
   "cell_type": "code",
   "execution_count": 4,
   "metadata": {},
   "outputs": [],
   "source": [
    "# Problem 1\n",
    "def travel_idea(interest,budget):\n",
    "    '''\n",
    "    INPUTS:\n",
    "        interest: A str interest or hobby (e.g. fishing)\n",
    "        budget: A str budget (e.g. $10,000)\n",
    "    '''\n",
    "    pass"
   ]
  },
  {
   "cell_type": "code",
   "execution_count": 5,
   "metadata": {},
   "outputs": [],
   "source": [
    "from langchain.chat_models import ChatOpenAI\n",
    "from langchain.prompts import (\n",
    "    ChatPromptTemplate,\n",
    "    PromptTemplate,\n",
    "    SystemMessagePromptTemplate,\n",
    "    AIMessagePromptTemplate,\n",
    "    HumanMessagePromptTemplate,\n",
    ")\n",
    "\n",
    "def travel_idea(interest,budget):\n",
    "    '''\n",
    "    INPUTS:\n",
    "        interest: A str interest or hobby (e.g. fishing)\n",
    "        budget: A str budget (e.g. $10,000)\n",
    "    '''\n",
    "    # PART ONE: SYSTEM\n",
    "    system_template=\"You are an AI Travel Agent that helps people plan trips about {interest} on a budget of {budget}\"\n",
    "    system_message_prompt = SystemMessagePromptTemplate.from_template(system_template)\n",
    "    # PART TWO: HUMAN REQUEST\n",
    "    human_template=\"{travel_help_request}\"\n",
    "    human_message_prompt = HumanMessagePromptTemplate.from_template(human_template)\n",
    "    # PART THREE: COMPILE TO CHAT\n",
    "    chat_prompt = ChatPromptTemplate.from_messages([system_message_prompt, human_message_prompt])\n",
    "    # PART FOUR: INSERT VARIABLES\n",
    "    request = chat_prompt.format_prompt(interest=interest, budget=budget, travel_help_request=\"Please give me an example travel itinerary\").to_messages()\n",
    "    # PART FIVE: CHAT REQUEST\n",
    "    chat = ChatOpenAI(openai_api_key=api_key)\n",
    "    result = chat(request)\n",
    "    return result.content"
   ]
  },
  {
   "cell_type": "code",
   "execution_count": 6,
   "metadata": {},
   "outputs": [
    {
     "name": "stdout",
     "output_type": "stream",
     "text": [
      "Certainly! Here's an example travel itinerary for a fishing trip on a budget of $10,000:\n",
      "\n",
      "Destination: Costa Rica\n",
      "\n",
      "Duration: 7 days\n",
      "\n",
      "Day 1: \n",
      "- Arrive in San Jose, Costa Rica\n",
      "- Transfer to a budget-friendly hotel in San Jose\n",
      "- Explore the city and enjoy local cuisine\n",
      "\n",
      "Day 2: \n",
      "- Take a domestic flight to Quepos, a popular fishing destination\n",
      "- Check-in at a budget-friendly hotel in Quepos\n",
      "- Spend the afternoon exploring the town and its beautiful beaches\n",
      "\n",
      "Day 3: \n",
      "- Full-day fishing excursion in Quepos, known for its abundant fish species like marlin, sailfish, and dorado\n",
      "- Enjoy a packed lunch on the boat\n",
      "- Return to the hotel and relax in the evening\n",
      "\n",
      "Day 4: \n",
      "- Take a scenic bus ride to the Arenal region\n",
      "- Check-in at a budget-friendly hotel near Arenal Volcano\n",
      "- Explore the Arenal Volcano National Park and enjoy the hot springs in the evening\n",
      "\n",
      "Day 5: \n",
      "- Morning fishing trip on Lake Arenal, known for its rainbow bass (guapote) and other freshwater species\n",
      "- Enjoy the natural beauty of the lake and surrounding rainforest\n",
      "- Afternoon free to relax or explore nearby attractions\n",
      "\n",
      "Day 6: \n",
      "- Transfer to the Caribbean coast, specifically Puerto Viejo de Talamanca\n",
      "- Check-in at a budget-friendly hotel in Puerto Viejo\n",
      "- Spend the afternoon fishing from the shore or renting a boat for some coastal fishing\n",
      "\n",
      "Day 7: \n",
      "- Half-day fishing trip in the Caribbean Sea, targeting species like snapper, grouper, and tarpon\n",
      "- Enjoy a beachside BBQ with your catch\n",
      "- Return to the hotel and spend the evening exploring the vibrant town of Puerto Viejo\n",
      "\n",
      "Day 8: \n",
      "- Transfer back to San Jose\n",
      "- Explore the capital city, visit local markets, and buy souvenirs\n",
      "- Depart from San Jose and head back home\n",
      "\n",
      "Please note that this is just a sample itinerary and can be customized according to your preferences. Prices may vary depending on the time of year and accommodation choices.\n"
     ]
    }
   ],
   "source": [
    "print(travel_idea('fishing','$10,000'))"
   ]
  },
  {
   "cell_type": "code",
   "execution_count": null,
   "metadata": {},
   "outputs": [],
   "source": []
  }
 ],
 "metadata": {
  "kernelspec": {
   "display_name": "langchain",
   "language": "python",
   "name": "python3"
  },
  "language_info": {
   "codemirror_mode": {
    "name": "ipython",
    "version": 3
   },
   "file_extension": ".py",
   "mimetype": "text/x-python",
   "name": "python",
   "nbconvert_exporter": "python",
   "pygments_lexer": "ipython3",
   "version": "3.10.11"
  }
 },
 "nbformat": 4,
 "nbformat_minor": 2
}
